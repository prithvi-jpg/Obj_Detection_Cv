{
 "cells": [
  {
   "cell_type": "code",
   "execution_count": 1,
   "metadata": {},
   "outputs": [],
   "source": [
    "import cv2"
   ]
  },
  {
   "cell_type": "code",
   "execution_count": 2,
   "metadata": {},
   "outputs": [
    {
     "data": {
      "text/plain": [
       "-1"
      ]
     },
     "execution_count": 2,
     "metadata": {},
     "output_type": "execute_result"
    }
   ],
   "source": [
    "img=cv2.imread(\"photo.jpg\",1) #(reading the image)\n",
    "cv2.imshow(\"image\",img) #(to display it)\n",
    "cv2.waitKey(1)"
   ]
  },
  {
   "cell_type": "code",
   "execution_count": 3,
   "metadata": {},
   "outputs": [],
   "source": [
    "myface=cv2.CascadeClassifier('haarcascade_frontalface_default.xml')\n",
    "myeyes=cv2.CascadeClassifier('haarcascade_eye.xml')\n",
    "mysmile=cv2.CascadeClassifier('haarcascade_smile.xml')"
   ]
  },
  {
   "cell_type": "code",
   "execution_count": 4,
   "metadata": {},
   "outputs": [],
   "source": [
    "def detect(gray,frame):\n",
    "        face=myface.detectMultiScale(gray,1.8,7)\n",
    "        for (x,y,w,h) in face:\n",
    "                cv2.rectangle(frame,(x,y),(x+w,y+h),(255,255,0),2)\n",
    "                roi_gray=gray[y:y+h,x:x+w]\n",
    "                roi_color=frame[y:y+h,x:x+w]\n",
    "                eyes=myeyes.detectMultiScale(roi_gray,1.2,24)\n",
    "                for (ex,ey,ew,eh) in eyes:\n",
    "                        cv2.rectangle(roi_color,(ex,ey),(ex+ew,ey+eh),(0,0,255),2)\n",
    "                smile=mysmile.detectMultiScale(roi_gray,1.2,24)\n",
    "                for (ex,ey,ew,eh) in smile:\n",
    "                        cv2.rectangle(roi_color,(ex,ey),(ex+ew,ey+eh),(255,0,255),2)\n",
    "        return frame"
   ]
  },
  {
   "cell_type": "code",
   "execution_count": 5,
   "metadata": {},
   "outputs": [],
   "source": [
    "video_capture=cv2.VideoCapture(0)\n",
    "while True:\n",
    "    _,frame=video_capture.read()\n",
    "    gray=cv2.cvtColor(frame,cv2.COLOR_BGR2GRAY)\n",
    "    res=detect(gray,frame)\n",
    "    cv2.imshow('Video',res)\n",
    "    if cv2.waitKey(1) & 0xFF==ord('q'):\n",
    "        break\n",
    "video_capture.release()\n",
    "cv2.destroyAllWindows()"
   ]
  },
  {
   "cell_type": "code",
   "execution_count": null,
   "metadata": {},
   "outputs": [],
   "source": []
  }
 ],
 "metadata": {
  "kernelspec": {
   "display_name": "Python 3",
   "language": "python",
   "name": "python3"
  },
  "language_info": {
   "codemirror_mode": {
    "name": "ipython",
    "version": 3
   },
   "file_extension": ".py",
   "mimetype": "text/x-python",
   "name": "python",
   "nbconvert_exporter": "python",
   "pygments_lexer": "ipython3",
   "version": "3.7.1"
  }
 },
 "nbformat": 4,
 "nbformat_minor": 2
}
